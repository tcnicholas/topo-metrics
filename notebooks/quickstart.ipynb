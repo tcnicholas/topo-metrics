{
  "nbformat": 4,
  "nbformat_minor": 0,
  "metadata": {
    "colab": {
      "provenance": [],
      "authorship_tag": "ABX9TyMHQgPA2TG2fEsm1SJtAuHv",
      "include_colab_link": true
    },
    "kernelspec": {
      "name": "python3",
      "display_name": "Python 3"
    },
    "language_info": {
      "name": "python"
    }
  },
  "cells": [
    {
      "cell_type": "markdown",
      "metadata": {
        "id": "view-in-github",
        "colab_type": "text"
      },
      "source": [
        "<a href=\"https://colab.research.google.com/github/tcnicholas/topo-metrics/blob/main/notebooks/quickstart.ipynb\" target=\"_parent\"><img src=\"https://colab.research.google.com/assets/colab-badge.svg\" alt=\"Open In Colab\"/></a>"
      ]
    },
    {
      "cell_type": "markdown",
      "source": [
        "# 🚀 `topo-metrics` quickstart!\n",
        "`topo-metrics` provides a Python interface to the powerful [`CrystalNets.jl`](https://coudertlab.github.io/CrystalNets.jl/dev/#CrystalNets.jl) and [`PeriodicGraphs.jl`](https://github.com/Liozou/PeriodicGraphs.jl) Julia packages — letting you compute ring statistics and topological metrics for network materials with ease!\n",
        "\n",
        "### ⚙️ One-time Setup (Don't Skip!)\n",
        "\n",
        "Before we can run any analysis, we need to set up the Julia—Python bridge using [`PythonCall.jl`](https://juliapy.github.io/PythonCall.jl/stable/). This means:\n",
        "\n",
        "- Installing Julia packages 📦\n",
        "\n",
        "- Resolving dependencies 🔧\n",
        "\n",
        "- Precompiling everything for speed later 🧠\n",
        "\n",
        "**🐢 Heads up**: This step can take a *long time* on Google Colab (sometimes up to 30 minutes...).\n",
        "So go ahead — run the cell below and grab a coffee ☕️. We'll be ready to explore topology by the time you're back!"
      ],
      "metadata": {
        "id": "lHfAozMc8_4X"
      }
    },
    {
      "cell_type": "code",
      "execution_count": 1,
      "metadata": {
        "id": "iOU-dJIL6Ift"
      },
      "outputs": [],
      "source": [
        "%%capture\n",
        "\n",
        "# install Julia using official script.\n",
        "!curl -fsSL https://install.julialang.org | sh -s -- --yes\n",
        "\n",
        "# add Julia to PATH.\n",
        "import os\n",
        "os.environ[\"PATH\"] += \":/root/.juliaup/bin\"\n",
        "\n",
        "# install `topo-metrics`.\n",
        "!pip install topo-metrics\n",
        "\n",
        "# we need to explicitly setup the Julia env for collab.\n",
        "import juliacall\n",
        "from juliacall import Main as jl\n",
        "\n",
        "# trigger Julia environment setup.\n",
        "jl.seval(\"\"\"\n",
        "import Pkg\n",
        "Pkg.activate(\"/usr/local/lib/python3.11/dist-packages/topo_metrics/RingStatistics\")\n",
        "Pkg.instantiate()\n",
        "\"\"\")\n",
        "\n",
        "# once more, we will trigger the julia setup within topo-metrics (which runs\n",
        "# the first the program is called).\n",
        "import topo_metrics\n",
        "\n",
        "# finally, let's download some example data.\n",
        "from pathlib import Path\n",
        "from urllib.request import urlretrieve\n",
        "\n",
        "example_dir = Path(\"examples/data\")\n",
        "example_dir.mkdir(parents=True, exist_ok=True)\n",
        "\n",
        "url = \"https://raw.githubusercontent.com/tcnicholas/topo-metrics/main/examples/data/alpha-cristobalite.cgd\"\n",
        "urlretrieve(url, example_dir / \"alpha-cristobalite.cgd\")"
      ]
    },
    {
      "cell_type": "markdown",
      "source": [
        "## ✅ We're ready to go!\n",
        "\n",
        "---"
      ],
      "metadata": {
        "id": "OtqftXkJENbj"
      }
    },
    {
      "cell_type": "code",
      "source": [
        "from topo_metrics import Topology"
      ],
      "metadata": {
        "id": "sSMrVY14C7qu"
      },
      "execution_count": 3,
      "outputs": []
    },
    {
      "cell_type": "markdown",
      "source": [
        "### 🧪 Example: α-Cristobalite\n",
        "\n",
        "Our example is based on the **α-cristobalite** structure.  \n",
        "We’ve already downloaded a Systre Crystallographic Geometry Definition (CGD) file, so let’s load it into `topo-metrics`."
      ],
      "metadata": {
        "id": "W4YluVQqLy71"
      }
    },
    {
      "cell_type": "code",
      "source": [
        "topology = Topology.from_cgd(example_dir / \"alpha-cristobalite.cgd\")\n",
        "topology"
      ],
      "metadata": {
        "colab": {
          "base_uri": "https://localhost:8080/"
        },
        "id": "XXX1a5Zj62-L",
        "outputId": "e48d666f-76a9-4dff-9581-aac528388d14"
      },
      "execution_count": 4,
      "outputs": [
        {
          "output_type": "execute_result",
          "data": {
            "text/plain": [
              "Topology(nodes=4, edges=16, has_lattice=True)"
            ]
          },
          "metadata": {},
          "execution_count": 4
        }
      ]
    },
    {
      "cell_type": "markdown",
      "source": [
        "Out of the box, we can pass the resulting periodic graph to [`CrystalNets.jl`](https://github.com/smtg-bham/CrystalNets.jl) to determine the topology of the network.\n",
        "\n",
        "Since α-cristobalite adopts a **diamond-like structure**, the expected topology code returned by CrystalNets should be:"
      ],
      "metadata": {
        "id": "U0ztLoQgMVqr"
      }
    },
    {
      "cell_type": "code",
      "source": [
        "topology_code = topology.get_topological_genome()\n",
        "topology_code"
      ],
      "metadata": {
        "colab": {
          "base_uri": "https://localhost:8080/",
          "height": 35
        },
        "id": "W6K81kfEDEcy",
        "outputId": "39651000-28b7-43f4-86f8-67af8d50e1e5"
      },
      "execution_count": 5,
      "outputs": [
        {
          "output_type": "execute_result",
          "data": {
            "text/plain": [
              "'dia'"
            ],
            "application/vnd.google.colaboratory.intrinsic+json": {
              "type": "string"
            }
          },
          "metadata": {},
          "execution_count": 5
        }
      ]
    },
    {
      "cell_type": "markdown",
      "source": [
        "### 🔄 Ring and Cluster Extraction\n",
        "\n",
        "The core functionality is accessed through the `Topology.get_rings()` method. This routine identifies all rings in a structure using [`PeriodicGraphs.jl`](https://github.com/Liozou/PeriodicGraphs.jl) under the hood, and returns them as a collection of `Ring` objects.\n",
        "\n",
        "By gathering all `Ring` instances surrounding a given node, a `Cluster` object can be constructed — representing the local topological environment of that node.\n",
        "\n",
        "All of this is bundled into a `RingsResults` instance, which we'll unpack shortly!\n"
      ],
      "metadata": {
        "id": "g7ZnvknsNshy"
      }
    },
    {
      "cell_type": "code",
      "source": [
        "rings_results = topology.get_rings(depth=6)\n",
        "rings_results"
      ],
      "metadata": {
        "colab": {
          "base_uri": "https://localhost:8080/"
        },
        "id": "Up62-z-ZDVbe",
        "outputId": "7870d168-fe5d-4f02-d51d-0d9e9b5f5312"
      },
      "execution_count": 6,
      "outputs": [
        {
          "output_type": "execute_result",
          "data": {
            "text/plain": [
              "RingsResults(\n",
              "    depth=6,\n",
              "    strong_rings=False,\n",
              "    ring_size_count=RingSizeCounts(n_rings=8, min=6, max=6),\n",
              "    VertexSymbol=[6(2).6(2).6(2).6(2).6(2).6(2)],\n",
              "    CARVS={6(12)}\n",
              ")"
            ]
          },
          "metadata": {},
          "execution_count": 6
        }
      ]
    },
    {
      "cell_type": "markdown",
      "source": [
        "### 📊 Global Ring Statistics\n",
        "\n",
        "Let's start with the simplest view: the **global** ring statistics for the structure.  \n",
        "The `RingSizeCounts` object stores the distribution of ring sizes detected across the entire network.\n",
        "\n",
        "Below is a summary of the non-zero ring counts:"
      ],
      "metadata": {
        "id": "7FKhmeoJSvhH"
      }
    },
    {
      "cell_type": "code",
      "source": [
        "print(\"Ring Size | Count\")\n",
        "print(\"----------|------\")\n",
        "for size, count in rings_results.ring_size_count:\n",
        "    if count > 0:\n",
        "        print(f\"{size:^9} | {count:^5}\")\n"
      ],
      "metadata": {
        "colab": {
          "base_uri": "https://localhost:8080/"
        },
        "id": "CTcitltQDbWd",
        "outputId": "d3b094e8-c2ca-48e7-b44b-6ca9fa9df0d0"
      },
      "execution_count": 16,
      "outputs": [
        {
          "output_type": "stream",
          "name": "stdout",
          "text": [
            "Ring Size | Count\n",
            "----------|------\n",
            "    6     |   8  \n"
          ]
        }
      ]
    },
    {
      "cell_type": "code",
      "source": [],
      "metadata": {
        "id": "VHwgaNmcS6Sy"
      },
      "execution_count": null,
      "outputs": []
    }
  ]
}